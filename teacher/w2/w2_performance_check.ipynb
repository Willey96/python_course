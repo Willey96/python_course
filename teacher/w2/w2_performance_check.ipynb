{
 "cells": [
  {
   "cell_type": "code",
   "execution_count": 9,
   "id": "b137873b-884d-4ece-bfad-c2ca2485b636",
   "metadata": {},
   "outputs": [
    {
     "name": "stdout",
     "output_type": "stream",
     "text": [
      "\n",
      "Performance Check with Datetime\n",
      "Execution time: 0:00:00.000907\n",
      "Execution time:  0:00:00.000907 \n",
      "\n"
     ]
    }
   ],
   "source": [
    "import datetime\n",
    "\n",
    "# insert code snippet here\n",
    "def list_ab():\n",
    "  for i in range(1000):\n",
    "    for index, a in enumerate([(a, b) for a in (1, 3, 5) for b in (2, 4, 6)]):   \n",
    "     #print(f\"a[{index}] ={a}\")\n",
    "     y=a[0]+a[1]   \n",
    "start_time = datetime.datetime.now()\n",
    "\n",
    "list_ab()      \n",
    "end_time = datetime.datetime.now()\n",
    "print(\"\\nPerformance Check with Datetime\")\n",
    "print(f\"Execution time: {end_time - start_time}\")\n",
    "print(\"Execution time: \",end_time - start_time,\"\\n\")\n"
   ]
  },
  {
   "cell_type": "code",
   "execution_count": 2,
   "id": "97d2491b-a96d-4418-be3f-041c1034ffcb",
   "metadata": {},
   "outputs": [
    {
     "name": "stdout",
     "output_type": "stream",
     "text": [
      "Execution time: 0.0013580000086221844\n"
     ]
    }
   ],
   "source": [
    "import timeit\n",
    "setup_list_ab = \"\"\"\n",
    "from __main__ import list_ab\n",
    "\"\"\"\n",
    "def list_ab():\n",
    "\n",
    "  for index, a in enumerate([(a, b) for a in (1, 3, 5) for b in (2, 4, 6)]):   \n",
    "   #print(f\"a[{index}] ={a}\")\n",
    "   y=a[0]+a[1]\n",
    "   #print(y)   \n",
    "\n",
    "\n",
    "execution_time = timeit.timeit(\"list_ab()\", setup=setup_list_ab, number=1000)\n",
    "print(\"Execution time:\", execution_time)"
   ]
  }
 ],
 "metadata": {
  "kernelspec": {
   "display_name": "Python 3 (ipykernel)",
   "language": "python",
   "name": "python3"
  },
  "language_info": {
   "codemirror_mode": {
    "name": "ipython",
    "version": 3
   },
   "file_extension": ".py",
   "mimetype": "text/x-python",
   "name": "python",
   "nbconvert_exporter": "python",
   "pygments_lexer": "ipython3",
   "version": "3.11.5"
  }
 },
 "nbformat": 4,
 "nbformat_minor": 5
}
