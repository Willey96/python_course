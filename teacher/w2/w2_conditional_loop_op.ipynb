{
 "cells": [
  {
   "cell_type": "code",
   "execution_count": 5,
   "id": "d22f7e33-ef69-4ccf-bbde-e0420d599728",
   "metadata": {},
   "outputs": [
    {
     "name": "stdout",
     "output_type": "stream",
     "text": [
      "Execution time: 0.00487779999821214\n"
     ]
    }
   ],
   "source": [
    "import timeit\n",
    "setup_list_ab = \"\"\"\n",
    "from __main__ import list_ab\n",
    "\"\"\"\n",
    "def list_ab():\n",
    "\n",
    "  for index, a in enumerate([(a, b) for a in (1, 3, 5) for b in (2, 4, 6)]):   \n",
    "   #print(f\"a[{index}] ={a}\")\n",
    "   y=a[0]+a[1]\n",
    "   #print(y)   \n",
    "\n",
    "\n",
    "execution_time = timeit.timeit(\"list_ab()\", setup=setup_list_ab, number=1000)\n",
    "print(\"Execution time:\", execution_time)\n"
   ]
  },
  {
   "cell_type": "code",
   "execution_count": 6,
   "id": "b137873b-884d-4ece-bfad-c2ca2485b636",
   "metadata": {},
   "outputs": [
    {
     "name": "stdout",
     "output_type": "stream",
     "text": [
      "Execution time:  0:00:00.003090\n"
     ]
    }
   ],
   "source": [
    "import datetime\n",
    "\n",
    "# insert code snippet here\n",
    "def list_ab():\n",
    "  for i in range(1000):\n",
    "    for index, a in enumerate([(a, b) for a in (1, 3, 5) for b in (2, 4, 6)]):   \n",
    "     #print(f\"a[{index}] ={a}\")\n",
    "     y=a[0]+a[1]   \n",
    "start_time = datetime.datetime.now()\n",
    "\n",
    "list_ab()      \n",
    "end_time = datetime.datetime.now()\n",
    "print(\"Execution time: \",end_time - start_time)"
   ]
  },
  {
   "cell_type": "code",
   "execution_count": 69,
   "id": "094ee40e-f2a1-4a05-99a6-479881938b3e",
   "metadata": {},
   "outputs": [
    {
     "name": "stdout",
     "output_type": "stream",
     "text": [
      "[0, 1, 2, 3, 4, 5, 6, 7, 8, 9]\n",
      "<class 'list'>\n",
      "(0, 1, 2, 3, 4, 5, 6, 7, 8, 9)\n",
      "<class 'tuple'>\n",
      "[ 0.          1.11111111  2.22222222  3.33333333  4.44444444  5.55555556\n",
      "  6.66666667  7.77777778  8.88888889 10.        ]\n",
      "<class 'numpy.ndarray'>\n",
      "range(0, 10)\n",
      "<class 'range'>\n"
     ]
    }
   ],
   "source": [
    "import matplotlib.pyplot as plt\n",
    "import numpy as np\n",
    "\n",
    "list_x=[0,1,2,3,4,5,6,7,8,9]\n",
    "tuple_x=(0,1,2,3,4,5,6,7,8,9)\n",
    "np_x = np.linspace(0, 10, 10)\n",
    "range_x=range(10)\n",
    "\n",
    "\n",
    "print(list_x)\n",
    "print(type(list_x))\n",
    "\n",
    "print(tuple_x)\n",
    "print(type(tuple_x))\n",
    "\n",
    "print(np_x)\n",
    "print(type(np_x))\n",
    "\n",
    "print(range_x)\n",
    "print(type(range_x))\n",
    "\n"
   ]
  },
  {
   "cell_type": "code",
   "execution_count": null,
   "id": "97d2491b-a96d-4418-be3f-041c1034ffcb",
   "metadata": {},
   "outputs": [],
   "source": []
  }
 ],
 "metadata": {
  "kernelspec": {
   "display_name": "Python 3 (ipykernel)",
   "language": "python",
   "name": "python3"
  },
  "language_info": {
   "codemirror_mode": {
    "name": "ipython",
    "version": 3
   },
   "file_extension": ".py",
   "mimetype": "text/x-python",
   "name": "python",
   "nbconvert_exporter": "python",
   "pygments_lexer": "ipython3",
   "version": "3.11.5"
  }
 },
 "nbformat": 4,
 "nbformat_minor": 5
}
