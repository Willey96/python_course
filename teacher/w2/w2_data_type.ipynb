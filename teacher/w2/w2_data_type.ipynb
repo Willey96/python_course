{
 "cells": [
  {
   "cell_type": "code",
   "execution_count": 4,
   "id": "d22f7e33-ef69-4ccf-bbde-e0420d599728",
   "metadata": {},
   "outputs": [
    {
     "name": "stdout",
     "output_type": "stream",
     "text": [
      "Hello World\n",
      "<class 'str'>\n",
      "20\n",
      "<class 'int'>\n"
     ]
    }
   ],
   "source": [
    "x = \"Hello World\"\n",
    "\n",
    "#display x:\n",
    "print(x)\n",
    "\n",
    "#display the data type of x:\n",
    "print(type(x)) \n",
    "\n"
   ]
  },
  {
   "cell_type": "code",
   "execution_count": 5,
   "id": "f6d164df-480f-4db2-ad81-9db9ea5351ca",
   "metadata": {},
   "outputs": [
    {
     "name": "stdout",
     "output_type": "stream",
     "text": [
      "20\n",
      "<class 'int'>\n"
     ]
    }
   ],
   "source": [
    "x = 20\n",
    "\n",
    "#display x:\n",
    "print(x)\n",
    "\n",
    "#display the data type of x:\n",
    "print(type(x)) "
   ]
  },
  {
   "cell_type": "code",
   "execution_count": 6,
   "id": "b137873b-884d-4ece-bfad-c2ca2485b636",
   "metadata": {},
   "outputs": [
    {
     "name": "stdout",
     "output_type": "stream",
     "text": [
      "20.5\n",
      "<class 'float'>\n"
     ]
    }
   ],
   "source": [
    "x = 20.5\n",
    "\n",
    "#display x:\n",
    "print(x)\n",
    "\n",
    "#display the data type of x:\n",
    "print(type(x)) \n"
   ]
  },
  {
   "cell_type": "code",
   "execution_count": null,
   "id": "29b65e18-26bb-4eb6-816e-c71371b893ac",
   "metadata": {},
   "outputs": [],
   "source": [
    "x = 1j\n",
    "\n",
    "#display x:\n",
    "print(x)\n",
    "\n",
    "#display the data type of x:\n",
    "print(type(x)) "
   ]
  },
  {
   "cell_type": "code",
   "execution_count": 64,
   "id": "0f74cc2a-11d7-467f-a3e2-fec8d6211862",
   "metadata": {},
   "outputs": [
    {
     "name": "stdout",
     "output_type": "stream",
     "text": [
      "['apple', 'banana', 'cherry']\n",
      "<class 'list'>\n",
      "['abc', 34, True, 40, 'male']\n",
      "\n",
      "More about list:  \n",
      "Allow duplicated: ['apple', 'banana', 'cherry', 'apple', 'cherry']\n",
      "Length : 5\n",
      "Add thislit ['apple', 'banana', 'cherry', 'apple', 'cherry', 'orange']\n",
      "['apple', 'orange', 'banana', 'cherry', 'apple', 'cherry', 'orange']\n",
      "['apple', 'orange', 'banana', 'cherry', 'apple', 'cherry', 'orange', 'mango', 'pineapple', 'papaya']\n",
      "['apple', 'orange', 'banana', 'cherry', 'apple', 'cherry', 'orange', 'mango', 'pineapple', 'papaya', 'kiwi', 'orange']\n",
      "thislist[3] item is  cherry\n"
     ]
    }
   ],
   "source": [
    "thislist = [\"apple\", \"banana\", \"cherry\"]\n",
    "\n",
    "#display x:\n",
    "print(thislist)\n",
    "\n",
    "#display the data type of x:\n",
    "print(type(thislist)) \n",
    "\n",
    "thislist = [\"abc\", 34, True, 40, \"male\"]\n",
    "print(thislist)\n",
    "\n",
    "#more about list\n",
    "print (\"\\nMore about list:  \")\n",
    "thislist = [\"apple\", \"banana\", \"cherry\", \"apple\", \"cherry\"]\n",
    "print(\"Allow duplicated:\",thislist)\n",
    "print(\"Length :\",len(thislist))\n",
    "\n",
    "# add new item at the end of list \n",
    "thislist.append(\"orange\")\n",
    "print(\"Add thislit\",thislist)\n",
    "\n",
    "# 1 is the index to insert the new item\n",
    "thislist.insert(1, \"orange\")\n",
    "print(thislist)\n",
    "\n",
    "# add lsit to the original list\n",
    "tropical = [\"mango\", \"pineapple\", \"papaya\"]\n",
    "thislist.extend(tropical)\n",
    "print(thislist)\n",
    "\n",
    "thistuple = (\"kiwi\", \"orange\")\n",
    "\n",
    "thislist.extend(thistuple)\n",
    "print(thislist)\n",
    "\n",
    "#order , with index access\n",
    "print(\"thislist[3] item is \",thislist[3])"
   ]
  },
  {
   "cell_type": "code",
   "execution_count": 47,
   "id": "cbc50b9e-dec9-4d35-b649-6823a16d109d",
   "metadata": {},
   "outputs": [
    {
     "name": "stdout",
     "output_type": "stream",
     "text": [
      "('apple', 'banana', 'cherrtuple')\n",
      "<class 'tuple'>\n",
      "\n",
      "More about Tuple:  \n",
      "thislist[1] item is  banana\n"
     ]
    }
   ],
   "source": [
    "# Tuple \n",
    "thistuple = (\"apple\", \"banana\", \"cherrtuple\")\n",
    "#display thistuple:\n",
    "print(thistuple)\n",
    "\n",
    "#display the data type of x:\n",
    "print(type(thistuple)) \n",
    "\n",
    "\n",
    "#more about Tuple\n",
    "print (\"\\nMore about Tuple:  \")\n",
    "#order , with index access\n",
    "print(\"thislist[1] item is \",thistuple[1])"
   ]
  },
  {
   "cell_type": "code",
   "execution_count": null,
   "id": "af99b729-0bb7-4af4-bdb0-bd8a5e0d27c0",
   "metadata": {},
   "outputs": [],
   "source": [
    "x = range(6)\n",
    "\n",
    "#display x:\n",
    "print(x)\n",
    "\n",
    "#display the data type of x:\n",
    "print(type(x)) "
   ]
  },
  {
   "cell_type": "code",
   "execution_count": 61,
   "id": "cb2578ed-acb1-469e-8e5e-b17a28e1ebb0",
   "metadata": {},
   "outputs": [
    {
     "name": "stdout",
     "output_type": "stream",
     "text": [
      "{'brand': 'Ford', 'model': 'Mustang', 'year': 1964}\n",
      "{'brand': 'Ford', 'model': 'Mustang', 'year': 1964, 'color': 'red'}\n",
      "{'brand': 'Ford', 'year': 1964, 'color': 'red'}\n",
      "<class 'dict'>\n",
      "\n",
      "More about Dictionary:  \n",
      "dict [year] is  1964 \n",
      "\n",
      "thisdict[brand]= Ford\n",
      "thisdict[year]= 1964\n",
      "thisdict[color]= red\n"
     ]
    }
   ],
   "source": [
    "# dist\n",
    "thisdict = {\n",
    "  \"brand\": \"Ford\",\n",
    "  \"model\": \"Mustang\",\n",
    "  \"year\": 1964\n",
    "}\n",
    "\n",
    "#display thisdict:\n",
    "print(thisdict)\n",
    "\n",
    "#add one item\n",
    "thisdict[\"color\"] = \"red\"\n",
    "print(thisdict)\n",
    "\n",
    "thisdict.pop(\"model\")\n",
    "print(thisdict)\n",
    "\n",
    "\n",
    "#display the data type of x:\n",
    "print(type(thisdict)) \n",
    "\n",
    "#more about Dict\n",
    "print (\"\\nMore about Dictionary:  \")\n",
    "print(\"dict [year] is \",thisdict[\"year\"],\"\\n\")\n",
    "\n",
    "for x in thisdict:\n",
    "  print(f\"thisdict[{x}]=\",thisdict[x])\n",
    "\n"
   ]
  },
  {
   "cell_type": "code",
   "execution_count": 63,
   "id": "4dcd28c7-d2eb-4cad-9d04-60744c78c55f",
   "metadata": {},
   "outputs": [
    {
     "name": "stdout",
     "output_type": "stream",
     "text": [
      "{'apple', 'cherry', 'banana'}\n",
      "<class 'set'>\n",
      "{'apple', 'cherry', 'banana'}\n",
      "{True, 2, 'banana', 'apple', 'cherry'} \n",
      "\n",
      "More about set: add and update\n",
      "{'apple', 'orange', 'cherry', 'banana'}\n",
      "{'orange', 'apple', 'banana', 'test1', 'cherry'}\n",
      "{'orange', 2, 'papaya', 'pineapple', 'apple', 'mango', 'banana', 'test1', 'cherry'}\n"
     ]
    }
   ],
   "source": [
    "#set \n",
    "thisset = {\"apple\", \"banana\", \"cherry\"}\n",
    "\n",
    "#display thisset:\n",
    "print(thisset)\n",
    "\n",
    "#display the data type of x:\n",
    "print(type(thisset)) \n",
    "\n",
    "# can not be duplicated item\n",
    "y = {\"apple\", \"banana\", \"cherry\", \"apple\"}\n",
    "\n",
    "print(y)\n",
    "\n",
    "z = {\"apple\", \"banana\", \"cherry\", True, 1, 2}\n",
    "\n",
    "# True and 1 is the same\n",
    "print(z,'\\n')\n",
    "\n",
    "print(\"More about set: add and update\")\n",
    "thisset.add(\"orange\")\n",
    "\n",
    "print(thisset)\n",
    "thisset.add(\"test1\")\n",
    "print(thisset)\n",
    "\n",
    "update = {\"pineapple\", \"mango\", \"papaya\"}\n",
    "\n",
    "thisset.update(update)\n",
    "print (thisset)"
   ]
  },
  {
   "cell_type": "code",
   "execution_count": 16,
   "id": "2ab378a2-b940-4013-be31-35fb72ce1479",
   "metadata": {},
   "outputs": [
    {
     "name": "stdout",
     "output_type": "stream",
     "text": [
      "frozenset({'apple', 'cherry', 'banana'})\n",
      "<class 'frozenset'>\n"
     ]
    }
   ],
   "source": [
    "thisset = frozenset({\"apple\", \"banana\", \"cherry\"})\n",
    "\n",
    "#display thisset:\n",
    "print(thisset)\n",
    "\n",
    "#display the data type of thisset:\n",
    "print(type(thisset)) "
   ]
  },
  {
   "cell_type": "code",
   "execution_count": null,
   "id": "4a544133-604d-47c4-a9e9-00346e80cadb",
   "metadata": {},
   "outputs": [],
   "source": [
    "x = True\n",
    "\n",
    "#display x:\n",
    "print(x)\n",
    "\n",
    "#display the data type of x:\n",
    "print(type(x)) "
   ]
  },
  {
   "cell_type": "code",
   "execution_count": null,
   "id": "c7501e46-3cd7-451a-9f18-110322566ce6",
   "metadata": {},
   "outputs": [],
   "source": [
    "x = b\"Hello\"\n",
    "\n",
    "#display x:\n",
    "print(x)\n",
    "\n",
    "#display the data type of x:\n",
    "print(type(x)) "
   ]
  },
  {
   "cell_type": "code",
   "execution_count": null,
   "id": "740f07e7-89fe-4211-8027-eb2af0260168",
   "metadata": {},
   "outputs": [],
   "source": [
    "x = bytearray(5)\n",
    "\n",
    "#display x:\n",
    "print(x)\n",
    "\n",
    "#display the data type of x:\n",
    "print(type(x)) "
   ]
  },
  {
   "cell_type": "code",
   "execution_count": null,
   "id": "3481fad6-5854-4330-a8ee-0848bf21a4c1",
   "metadata": {},
   "outputs": [],
   "source": [
    "x = memoryview(bytes(5))\n",
    "\n",
    "#display x:\n",
    "print(x)\n",
    "\n",
    "#display the data type of x:\n",
    "print(type(x)) \n"
   ]
  },
  {
   "cell_type": "code",
   "execution_count": null,
   "id": "f06713d4-46ce-4f7b-b201-5b5074185f38",
   "metadata": {},
   "outputs": [],
   "source": [
    "x = None\n",
    "\n",
    "#display x:\n",
    "print(x)\n",
    "\n",
    "#display the data type of x:\n",
    "print(type(x)) "
   ]
  }
 ],
 "metadata": {
  "kernelspec": {
   "display_name": "Python 3 (ipykernel)",
   "language": "python",
   "name": "python3"
  },
  "language_info": {
   "codemirror_mode": {
    "name": "ipython",
    "version": 3
   },
   "file_extension": ".py",
   "mimetype": "text/x-python",
   "name": "python",
   "nbconvert_exporter": "python",
   "pygments_lexer": "ipython3",
   "version": "3.11.5"
  }
 },
 "nbformat": 4,
 "nbformat_minor": 5
}
