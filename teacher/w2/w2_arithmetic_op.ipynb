{
 "cells": [
  {
   "cell_type": "code",
   "execution_count": 1,
   "id": "97d2491b-a96d-4418-be3f-041c1034ffcb",
   "metadata": {},
   "outputs": [
    {
     "name": "stdout",
     "output_type": "stream",
     "text": [
      "8\n",
      "8\n"
     ]
    }
   ],
   "source": [
    "# +\n",
    "x = 5\n",
    "y = 3\n",
    "\n",
    "print(x + y)\n",
    "\n",
    "x = 5\n",
    "\n",
    "x += 3\n",
    "\n",
    "print(x)"
   ]
  },
  {
   "cell_type": "code",
   "execution_count": null,
   "id": "f64273ae-3dc8-43f9-81a1-80b044cf7fd8",
   "metadata": {},
   "outputs": [],
   "source": [
    "# -\n",
    "x = 5\n",
    "y = 3\n",
    "\n",
    "\n",
    "print(x - y)\n",
    "\n",
    "x = 5\n",
    "\n",
    "x -= 3\n",
    "\n",
    "print(x)\n"
   ]
  },
  {
   "cell_type": "code",
   "execution_count": 2,
   "id": "fb77e1c9-3ffa-478b-86ce-025f5e68da25",
   "metadata": {},
   "outputs": [
    {
     "name": "stdout",
     "output_type": "stream",
     "text": [
      "15\n",
      "15\n"
     ]
    }
   ],
   "source": [
    "#*\n",
    "x = 5\n",
    "y = 3\n",
    "\n",
    "print(x * y)\n",
    "\n",
    "x = 5\n",
    "\n",
    "x *= 3\n",
    "\n",
    "print(x)"
   ]
  },
  {
   "cell_type": "code",
   "execution_count": 4,
   "id": "06a28057-ed1c-4513-8c3d-844115111389",
   "metadata": {},
   "outputs": [
    {
     "name": "stdout",
     "output_type": "stream",
     "text": [
      "4.0\n",
      "4.0\n"
     ]
    }
   ],
   "source": [
    "#/\n",
    "x = 12\n",
    "y = 3\n",
    "\n",
    "print(x / y)\n",
    "\n",
    "x = 12\n",
    "\n",
    "x /= 3\n",
    "\n",
    "print(x)\n",
    "\n",
    "\n",
    "\n"
   ]
  },
  {
   "cell_type": "code",
   "execution_count": 6,
   "id": "40013067-f3fb-422f-b971-b3aad586bddd",
   "metadata": {},
   "outputs": [
    {
     "name": "stdout",
     "output_type": "stream",
     "text": [
      "1\n",
      "1\n"
     ]
    }
   ],
   "source": [
    "# %\n",
    "x = 5\n",
    "y = 2\n",
    "\n",
    "print(x % y)\n",
    "\n",
    "x = 5\n",
    "\n",
    "x%=2\n",
    "\n",
    "print(x)\n"
   ]
  },
  {
   "cell_type": "code",
   "execution_count": 7,
   "id": "86bc721a-7214-4dd9-a838-30e70b801739",
   "metadata": {},
   "outputs": [
    {
     "name": "stdout",
     "output_type": "stream",
     "text": [
      "32\n",
      "32\n"
     ]
    }
   ],
   "source": [
    "# **\n",
    "x = 2\n",
    "y = 5\n",
    "\n",
    "print(x ** y) #same as 2*2*2*2*2\n",
    "\n",
    "x = 2\n",
    "\n",
    "x **= 5\n",
    "\n",
    "print(x)"
   ]
  },
  {
   "cell_type": "code",
   "execution_count": 8,
   "id": "650b030b-2a38-4537-a764-19ec4abdfb2c",
   "metadata": {},
   "outputs": [
    {
     "name": "stdout",
     "output_type": "stream",
     "text": [
      "7\n",
      "7\n"
     ]
    }
   ],
   "source": [
    "#the floor division // rounds the result down to the nearest whole number\n",
    "x = 15\n",
    "y = 2\n",
    "\n",
    "print(x // y)\n",
    "\n",
    "x = 15\n",
    "\n",
    "x//=2\n",
    "\n",
    "print(x)\n",
    "\n"
   ]
  },
  {
   "cell_type": "code",
   "execution_count": null,
   "id": "0383f858-317a-47c6-872d-0d271b4f5c3f",
   "metadata": {},
   "outputs": [],
   "source": []
  }
 ],
 "metadata": {
  "kernelspec": {
   "display_name": "Python 3 (ipykernel)",
   "language": "python",
   "name": "python3"
  },
  "language_info": {
   "codemirror_mode": {
    "name": "ipython",
    "version": 3
   },
   "file_extension": ".py",
   "mimetype": "text/x-python",
   "name": "python",
   "nbconvert_exporter": "python",
   "pygments_lexer": "ipython3",
   "version": "3.11.5"
  }
 },
 "nbformat": 4,
 "nbformat_minor": 5
}
