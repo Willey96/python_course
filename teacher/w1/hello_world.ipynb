{
 "cells": [
  {
   "cell_type": "code",
   "execution_count": 6,
   "id": "e3c8d8b7-b8cc-4c1e-ba41-809d21401547",
   "metadata": {},
   "outputs": [
    {
     "name": "stdout",
     "output_type": "stream",
     "text": [
      "hello worldffff\n",
      "hello worldffff\n",
      "hello worldffff\n",
      "hello worldffff\n"
     ]
    }
   ],
   "source": [
    "import sys;\n",
    "\n",
    "# hello world \n",
    "\n",
    "print('hello worldffff')\n",
    "\n",
    "print('hello worldffff')\n",
    "print('hello worldffff')\n",
    "\n",
    "print('hello worldffff');"
   ]
  },
  {
   "cell_type": "code",
   "execution_count": 7,
   "id": "e3b64c0b-536b-4c70-abef-d0433d94c621",
   "metadata": {},
   "outputs": [
    {
     "name": "stdout",
     "output_type": "stream",
     "text": [
      "hello worldffff\n"
     ]
    }
   ],
   "source": [
    "import sys;\n",
    "\n",
    "# hello world \n",
    "\n",
    "print('hello worldffff');"
   ]
  },
  {
   "cell_type": "code",
   "execution_count": null,
   "id": "be851ba0-32ea-4e98-9a4f-70648c7bf49b",
   "metadata": {},
   "outputs": [],
   "source": []
  },
  {
   "cell_type": "code",
   "execution_count": null,
   "id": "576b66a3-b184-4a35-a30f-1cadff8d4594",
   "metadata": {},
   "outputs": [],
   "source": []
  },
  {
   "cell_type": "code",
   "execution_count": null,
   "id": "a5055782-14d9-459d-aba9-726e1596adc6",
   "metadata": {},
   "outputs": [],
   "source": []
  },
  {
   "cell_type": "code",
   "execution_count": null,
   "id": "04eb411d-6050-442a-a560-ee275d06ef51",
   "metadata": {},
   "outputs": [],
   "source": []
  },
  {
   "cell_type": "code",
   "execution_count": null,
   "id": "2ec04023-7b03-4d2c-972f-fefcbda39186",
   "metadata": {},
   "outputs": [],
   "source": []
  },
  {
   "cell_type": "code",
   "execution_count": null,
   "id": "2e42068b-ecf3-4df5-bfc6-2abef7e49c65",
   "metadata": {},
   "outputs": [],
   "source": []
  }
 ],
 "metadata": {
  "kernelspec": {
   "display_name": "Python 3 (ipykernel)",
   "language": "python",
   "name": "python3"
  },
  "language_info": {
   "codemirror_mode": {
    "name": "ipython",
    "version": 3
   },
   "file_extension": ".py",
   "mimetype": "text/x-python",
   "name": "python",
   "nbconvert_exporter": "python",
   "pygments_lexer": "ipython3",
   "version": "3.11.5"
  }
 },
 "nbformat": 4,
 "nbformat_minor": 5
}
